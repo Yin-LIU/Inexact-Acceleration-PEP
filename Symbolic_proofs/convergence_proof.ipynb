{
 "cells": [
  {
   "cell_type": "markdown",
   "metadata": {},
   "source": [
    "Due to the limitation of sympy, we can not simplify Summation notation when K is a symbol. So we define K as a fixed integer"
   ]
  },
  {
   "cell_type": "code",
   "execution_count": 430,
   "metadata": {},
   "outputs": [
    {
     "data": {
      "image/png": "[encoded data removed]",
      "text/latex": [
       "$\\displaystyle \\left\\{ {x}_{0} : x_{0}, \\  {x}_{1} : x_{0} - \\frac{\\left(2 {\\alpha}_{1} + 1\\right) \\left({e}_{0} + {g}_{0}\\right)}{L {A}_{1}}, \\  {x}_{2} : x_{0} - \\frac{\\left(\\frac{2 {\\alpha}_{1} + 1}{{A}_{2}} + \\frac{2 {\\alpha}_{2}}{{A}_{2}}\\right) \\left({e}_{0} + {g}_{0}\\right) + \\frac{\\left({A}_{1} + 2 {\\alpha}_{1} {\\alpha}_{2}\\right) \\left({e}_{1} + {g}_{1}\\right)}{{A}_{2}}}{L}, \\  {x}_{3} : x_{0} - \\frac{\\left(\\frac{{A}_{1} + 2 {\\alpha}_{1} {\\alpha}_{2}}{{A}_{3}} + \\frac{2 {\\alpha}_{1} {\\alpha}_{3}}{{A}_{3}}\\right) \\left({e}_{1} + {g}_{1}\\right) + \\left(\\frac{\\left(\\frac{2 {\\alpha}_{1} + 1}{{A}_{2}} + \\frac{2 {\\alpha}_{2}}{{A}_{2}}\\right) {A}_{2}}{{A}_{3}} + \\frac{2 {\\alpha}_{3}}{{A}_{3}}\\right) \\left({e}_{0} + {g}_{0}\\right) + \\frac{\\left({A}_{2} + 2 {\\alpha}_{2} {\\alpha}_{3}\\right) \\left({e}_{2} + {g}_{2}\\right)}{{A}_{3}}}{L}\\right\\}$"
      ],
      "text/plain": [
       "⎧                                                                             \n",
       "⎪                                                                             \n",
       "⎪                                                                ⎛2⋅alpha[1] +\n",
       "⎨                                                                ⎜────────────\n",
       "⎪                     (2⋅alpha[1] + 1)⋅(e[0] + g[0])             ⎝     A[2]   \n",
       "⎪x[0]: x₀, x[1]: x₀ - ──────────────────────────────, x[2]: x₀ - ─────────────\n",
       "⎩                                 L⋅A[1]                                      \n",
       "\n",
       "                                                                              \n",
       "                                                                              \n",
       " 1   2⋅alpha[2]⎞                 (A[1] + 2⋅alpha[1]⋅alpha[2])⋅(e[1] + g[1])   \n",
       "── + ──────────⎟⋅(e[0] + g[0]) + ──────────────────────────────────────────   \n",
       "        A[2]   ⎠                                    A[2]                      \n",
       "───────────────────────────────────────────────────────────────────────────, x\n",
       "                              L                                               \n",
       "\n",
       "                                                                             ⎛\n",
       "                                                                             ⎜\n",
       "          ⎛A[1] + 2⋅alpha[1]⋅alpha[2]   2⋅alpha[1]⋅alpha[3]⎞                 ⎜\n",
       "          ⎜────────────────────────── + ───────────────────⎟⋅(e[1] + g[1]) + ⎜\n",
       "          ⎝           A[3]                      A[3]       ⎠                 ⎝\n",
       "[3]: x₀ - ────────────────────────────────────────────────────────────────────\n",
       "                                                                              \n",
       "\n",
       "⎛2⋅alpha[1] + 1   2⋅alpha[2]⎞                  ⎞                              \n",
       "⎜────────────── + ──────────⎟⋅A[2]             ⎟                              \n",
       "⎝     A[2]           A[2]   ⎠        2⋅alpha[3]⎟                 (A[2] + 2⋅alp\n",
       "────────────────────────────────── + ──────────⎟⋅(e[0] + g[0]) + ─────────────\n",
       "               A[3]                     A[3]   ⎠                              \n",
       "──────────────────────────────────────────────────────────────────────────────\n",
       "                   L                                                          \n",
       "\n",
       "                             ⎫\n",
       "                             ⎪\n",
       "ha[2]⋅alpha[3])⋅(e[2] + g[2])⎪\n",
       "─────────────────────────────⎬\n",
       "      A[3]                   ⎪\n",
       "─────────────────────────────⎪\n",
       "                             ⎭"
      ]
     },
     "execution_count": 430,
     "metadata": {},
     "output_type": "execute_result"
    }
   ],
   "source": [
    "from sympy import *\n",
    "import numpy as np\n",
    "\n",
    "init_printing()\n",
    "\n",
    "K = 3\n",
    "i, j, k = symbols(\"i j k\", integer=True)\n",
    "L = symbols(\"L\")\n",
    "# K = symbols('K', integer=True, positive=True)\n",
    "f = IndexedBase(\"f\")\n",
    "g = IndexedBase(\"g\")\n",
    "e = IndexedBase(\"e\")\n",
    "x = IndexedBase(\"x\")\n",
    "x0 = symbols(\"x0\")\n",
    "fs = symbols(\"f_*\")\n",
    "xs = symbols(\"x_*\")\n",
    "\n",
    "A = IndexedBase(\"A\")\n",
    "alpha = IndexedBase(\"alpha\")\n",
    "\n",
    "A_to_alpha = {A[-1]: 0, A[0]: 1, alpha[0]: 1, A[1]: 1 + alpha[1]}\n",
    "for i in range(2, K + 1):\n",
    "    A_to_alpha[A[i]] = A_to_alpha[A[i - 1]] + alpha[i]\n",
    "\n",
    "\n",
    "# a_symbol = IndexedBase('alpha')\n",
    "def calculate_theta(k, i):\n",
    "    if i == k - 1:\n",
    "        result = (2 * alpha[i] * alpha[k] + A[k - 1]) / A[k]\n",
    "    elif i <= k - 2:\n",
    "        result = 2 * alpha[k] * alpha[i] / A[k] + A[k - 1] / A[k] * calculate_theta(\n",
    "            k - 1, i\n",
    "        )\n",
    "    else:\n",
    "        result = 0\n",
    "    return result.subs({A[0]: 1, A[-1]: 0, alpha[0]: 1})\n",
    "\n",
    "\n",
    "theta = [[calculate_theta(k, i) for i in range(k)] for k in range(0, K + 1)]\n",
    "\n",
    "\n",
    "def calculate_x(k):\n",
    "    if k == 0:\n",
    "        return x0\n",
    "    else:\n",
    "        return x0 - 1 / L * sum([theta[k][i] * (g[i] + e[i]) for i in range(k)])\n",
    "\n",
    "\n",
    "x_expr = {x[k]: calculate_x(k) for k in range(K + 1)}\n",
    "x_expr"
   ]
  },
  {
   "cell_type": "code",
   "execution_count": 431,
   "metadata": {},
   "outputs": [
    {
     "data": {
      "image/png": "[encoded data removed]",
      "text/latex": [
       "$\\displaystyle \\sum_{k=0}^{3} \\frac{\\left(- {A}_{k - 1} + {A}_{k}\\right) \\left(- f_{*} + \\left(x_{*} - {x}_{k}\\right) {g}_{k} + {f}_{k} + \\frac{{g}_{k}^{2}}{2 L}\\right)}{{A}_{3}} + \\sum_{k=0}^{2} \\frac{\\left(\\left(- {x}_{k + 1} + {x}_{k}\\right) {g}_{k + 1} + {f}_{k + 1} - {f}_{k} + \\frac{\\left(- {g}_{k + 1} + {g}_{k}\\right)^{2}}{2 L}\\right) {A}_{k}}{{A}_{3}}$"
      ],
      "text/plain": [
       "  3                                                                    2      \n",
       "_____                                                                _____    \n",
       "╲                                                                    ╲        \n",
       " ╲                       ⎛                                      2⎞    ╲    ⎛  \n",
       "  ╲                      ⎜                                  g[k] ⎟     ╲   ⎜  \n",
       "   ╲  (-A[k - 1] + A[k])⋅⎜-f_* + (x_* - x[k])⋅g[k] + f[k] + ─────⎟      ╲  ⎜(-\n",
       "   ╱                     ⎝                                   2⋅L ⎠ +    ╱  ⎝  \n",
       "  ╱   ────────────────────────────────────────────────────────────     ╱   ───\n",
       " ╱                                A[3]                                ╱       \n",
       "╱                                                                    ╱        \n",
       "‾‾‾‾‾                                                                ‾‾‾‾‾    \n",
       "k = 0                                                                k = 0    \n",
       "\n",
       "                                                                       \n",
       "                                                                       \n",
       "                                                                       \n",
       "                                                                2⎞     \n",
       "                                              (-g[k + 1] + g[k]) ⎟     \n",
       "x[k + 1] + x[k])⋅g[k + 1] + f[k + 1] - f[k] + ───────────────────⎟⋅A[k]\n",
       "                                                      2⋅L        ⎠     \n",
       "───────────────────────────────────────────────────────────────────────\n",
       "                                A[3]                                   \n",
       "                                                                       \n",
       "                                                                       \n",
       "                                                                       "
      ]
     },
     "execution_count": 431,
     "metadata": {},
     "output_type": "execute_result"
    }
   ],
   "source": [
    "# initial inequality\n",
    "\n",
    "\n",
    "def eq_vi(k):\n",
    "    eq = (\n",
    "        f[k + 1]\n",
    "        - f[k]\n",
    "        + g[k + 1] * (x[k] - x[k + 1])\n",
    "        + 1 / (2 * L) * (g[k] - g[k + 1]) ** 2\n",
    "    )\n",
    "    return eq.subs(x_expr)\n",
    "\n",
    "\n",
    "def eq_vs(k):\n",
    "    eq = f[k] - fs + g[k] * (xs - x[k]) + 1 / (2 * L) * g[k] ** 2\n",
    "    return eq.subs(x_expr)\n",
    "\n",
    "\n",
    "ineq_init = Sum(A[k] / A[K] * eq_vi(k), (k, 0, K - 1)) + Sum(\n",
    "    (A[k] - A[k - 1]) / A[K] * eq_vs(k), (k, 0, K)\n",
    ")\n",
    "\n",
    "# ineq_init = ineq_init.doit().subs({A[0]: 1, A[-1]: 0}).subs(x_expr).cancel()\n",
    "ineq_init"
   ]
  },
  {
   "cell_type": "code",
   "execution_count": 432,
   "metadata": {},
   "outputs": [
    {
     "data": {
      "image/png": "[encoded data removed]",
      "text/latex": [
       "$\\displaystyle - \\sum_{k=0}^{3} \\left(x_{*} - {x}_{k}\\right) \\left(- {A}_{k - 1} + {A}_{k}\\right) {g}_{k} - \\sum_{k=0}^{2} \\left(- {x}_{k + 1} + {x}_{k}\\right) {A}_{k} {g}_{k + 1} - \\frac{{A}_{3} {g}_{3}^{2}}{2 L} - \\frac{\\sum_{k=0}^{3} \\left(- {A}_{k - 1} + {A}_{k}\\right) {g}_{k}^{2}}{2 L} - \\frac{\\sum_{k=0}^{2} \\left(- {g}_{k + 1} + {g}_{k}\\right)^{2} {A}_{k}}{2 L}$"
      ],
      "text/plain": [
       "                                                                              \n",
       "                                                                              \n",
       "                                                                              \n",
       "                                                                              \n",
       "    3                                            2                            \n",
       "   ___                                          ___                           \n",
       "   ╲                                            ╲                             \n",
       "    ╲                                            ╲                            \n",
       "-   ╱   (x_* - x[k])⋅(-A[k - 1] + A[k])⋅g[k] -   ╱   (-x[k + 1] + x[k])⋅A[k]⋅g\n",
       "   ╱                                            ╱                             \n",
       "   ‾‾‾                                          ‾‾‾                           \n",
       "  k = 0                                        k = 0                          \n",
       "\n",
       "                         3                                2                   \n",
       "                        ___                              ___                  \n",
       "                        ╲                                ╲                    \n",
       "                         ╲                          2     ╲                   \n",
       "                         ╱   (-A[k - 1] + A[k])⋅g[k]      ╱   (-g[k + 1] + g[k\n",
       "                        ╱                                ╱                    \n",
       "                   2    ‾‾‾                              ‾‾‾                  \n",
       "          A[3]⋅g[3]    k = 0                            k = 0                 \n",
       "[k + 1] - ────────── - ────────────────────────────── - ──────────────────────\n",
       "             2⋅L                    2⋅L                              2⋅L      \n",
       "                                                                              \n",
       "                                                                              \n",
       "\n",
       "        \n",
       "        \n",
       "        \n",
       "  2     \n",
       "]) ⋅A[k]\n",
       "        \n",
       "        \n",
       "        \n",
       "────────\n",
       "        \n",
       "        \n",
       "        "
      ]
     },
     "execution_count": 432,
     "metadata": {},
     "output_type": "execute_result"
    }
   ],
   "source": [
    "RHS_init = -A[K] * (ineq_init - (f[K] - fs - 1 / (2 * L) * g[K] ** 2))\n",
    "RHS_1 = (\n",
    "    -Sum(A[k] * g[k + 1] * (x[k] - x[k + 1]), (k, 0, K - 1))\n",
    "    - Sum((A[k] - A[k - 1]) * g[k] * (xs - x[k]), (k, 0, K))\n",
    "    - 1 / (2 * L) * Sum(A[k] * (g[k] - g[k + 1]) ** 2, (k, 0, K - 1))\n",
    "    - 1 / (2 * L) * Sum((A[k] - A[k - 1]) * g[k] ** 2, (k, 0, K))\n",
    "    - A[K] / (2 * L) * g[K] ** 2\n",
    ")\n",
    "RHS_1"
   ]
  },
  {
   "cell_type": "code",
   "execution_count": 433,
   "metadata": {},
   "outputs": [
    {
     "data": {
      "image/png": "[encoded data removed]",
      "text/latex": [
       "$\\displaystyle 0$"
      ],
      "text/plain": [
       "0"
      ]
     },
     "execution_count": 433,
     "metadata": {},
     "output_type": "execute_result"
    }
   ],
   "source": [
    "res = RHS_1 - RHS_init\n",
    "res.doit().cancel().subs(A_to_alpha)"
   ]
  },
  {
   "cell_type": "code",
   "execution_count": 434,
   "metadata": {},
   "outputs": [
    {
     "data": {
      "image/png": "[encoded data removed]",
      "text/latex": [
       "$\\displaystyle 0$"
      ],
      "text/plain": [
       "0"
      ]
     },
     "execution_count": 434,
     "metadata": {},
     "output_type": "execute_result"
    }
   ],
   "source": [
    "RHS_1 = RHS_1.doit().subs(A_to_alpha).subs(x_expr).cancel()\n",
    "\n",
    "double_sum = 0\n",
    "for num_k in range(K):\n",
    "    for num_i in range(num_k):\n",
    "        double_sum += (\n",
    "            1\n",
    "            / L\n",
    "            * (A[num_k + 1] * theta[num_k + 1][num_i] - A[num_k] * theta[num_k][num_i])\n",
    "            * g[num_k + 1]\n",
    "            * (g[num_i] + e[num_i])\n",
    "        )\n",
    "    double_sum += (\n",
    "        1\n",
    "        / L\n",
    "        * A[num_k + 1]\n",
    "        * theta[num_k + 1][num_k]\n",
    "        * g[num_k + 1]\n",
    "        * (g[num_k] + e[num_k])\n",
    "    )\n",
    "\n",
    "\n",
    "RHS_2 = (\n",
    "    Sum(alpha[k] * g[k] * (x0 - xs), (k, 0, K))\n",
    "    - 1 / L * Sum(A[k] * g[k] ** 2, (k, 0, K))\n",
    "    + 1 / L * Sum(A[k] * g[k] * g[k + 1], (k, 0, K - 1))\n",
    "    - double_sum\n",
    ")\n",
    "\n",
    "RHS_2 = RHS_2.doit().cancel()\n",
    "res = RHS_2 - RHS_1\n",
    "res.subs(A_to_alpha).cancel()\n",
    "# res = RHS_1.subs(A_to_alpha) - RHS\n",
    "# res.cancel()"
   ]
  },
  {
   "cell_type": "code",
   "execution_count": 435,
   "metadata": {},
   "outputs": [
    {
     "data": {
      "image/png": "[encoded data removed]",
      "text/latex": [
       "$\\displaystyle 0$"
      ],
      "text/plain": [
       "0"
      ]
     },
     "execution_count": 435,
     "metadata": {},
     "output_type": "execute_result"
    }
   ],
   "source": [
    "double_sum = 0\n",
    "\n",
    "for num_k in range(K):\n",
    "    for num_i in range(num_k + 1):\n",
    "        double_sum += (\n",
    "            2\n",
    "            / L\n",
    "            * alpha[num_k + 1]\n",
    "            * alpha[num_i]\n",
    "            * g[num_k + 1]\n",
    "            * (g[num_i] + e[num_i])\n",
    "        )\n",
    "    double_sum += 1 / L * A[num_k] * g[num_k + 1] * (g[num_k] + e[num_k])\n",
    "\n",
    "RHS_a = (\n",
    "    Sum(alpha[k] * g[k] * (x0 - xs), (k, 0, K))\n",
    "    - 1 / L * Sum(A[k] * g[k] ** 2, (k, 0, K))\n",
    "    + 1 / L * Sum(A[k] * g[k] * g[k + 1], (k, 0, K - 1))\n",
    "    - double_sum\n",
    ")\n",
    "\n",
    "res = RHS_a.doit() - RHS_2\n",
    "res.subs(A_to_alpha).cancel()"
   ]
  },
  {
   "cell_type": "code",
   "execution_count": 436,
   "metadata": {},
   "outputs": [
    {
     "data": {
      "image/png": "[encoded data removed]",
      "text/latex": [
       "$\\displaystyle 0$"
      ],
      "text/plain": [
       "0"
      ]
     },
     "execution_count": 436,
     "metadata": {},
     "output_type": "execute_result"
    }
   ],
   "source": [
    "tau = symbols(\"tau\", positive=True)\n",
    "double_sum = 0\n",
    "for num_k in range(K):\n",
    "    for num_i in range(num_k + 1):\n",
    "        double_sum += (\n",
    "            2 / L * alpha[num_k + 1] * alpha[num_i] * g[num_k + 1] * (e[num_i])\n",
    "        )\n",
    "    double_sum += 1 / L * A[num_k] * g[num_k + 1] * e[num_k]\n",
    "\n",
    "RHS_b = (\n",
    "    -4 / L * (L / 4 * (x0 - xs) - Rational(1, 2) * Sum(alpha[k] * g[k], (k, 0, K))) ** 2\n",
    "    + L / 4 * (x0 - xs) ** 2\n",
    "    - Sum((A[k] - alpha[k] ** 2) / L * g[k] ** 2, (k, 1, K))\n",
    "    - double_sum\n",
    ")\n",
    "\n",
    "res = RHS_b.doit() - RHS_a.doit()\n",
    "res.subs(A_to_alpha).cancel()"
   ]
  },
  {
   "cell_type": "code",
   "execution_count": 437,
   "metadata": {},
   "outputs": [
    {
     "data": {
      "image/png": "[encoded data removed]",
      "text/latex": [
       "$\\displaystyle 0$"
      ],
      "text/plain": [
       "0"
      ]
     },
     "execution_count": 437,
     "metadata": {},
     "output_type": "execute_result"
    }
   ],
   "source": [
    "# check for single k equation\n",
    "\n",
    "k = 3\n",
    "i = symbols(\"i\")\n",
    "RHS_0 = (\n",
    "    -(A[k + 1] - alpha[k + 1] ** 2) / L * g[k + 1] ** 2\n",
    "    - 2 / L * Sum(alpha[k + 1] * alpha[i] * g[k + 1] * e[i], (i, 0, k))\n",
    "    - 1 / L * A[k] * g[k + 1] * e[k]\n",
    ")\n",
    "\n",
    "double_sum = 0\n",
    "for num_i in range(k + 1):\n",
    "    for num_j in range(num_i):\n",
    "        double_sum += (\n",
    "            2 * alpha[k + 1] ** 2 * alpha[num_i] * alpha[num_j] * e[num_i] * e[num_j]\n",
    "        )\n",
    "double_sum = double_sum / (L * (A[k + 1] - alpha[k + 1] ** 2))\n",
    "RHS_1 = (\n",
    "    -1\n",
    "    / (L * (A[k + 1] - alpha[k + 1] ** 2))\n",
    "    * (\n",
    "        (A[k + 1] - alpha[k + 1] ** 2) * g[k + 1]\n",
    "        + Sum(alpha[k + 1] * alpha[i] * e[i], (i, 0, k))\n",
    "        + Rational(1, 2) * A[k] * e[k]\n",
    "    )\n",
    "    ** 2\n",
    "    + 1\n",
    "    / (L * (A[k + 1] - alpha[k + 1] ** 2))\n",
    "    * Sum(alpha[k + 1] ** 2 * alpha[i] ** 2 * e[i] ** 2, (i, 0, k - 1))\n",
    "    + double_sum\n",
    "    + 1\n",
    "    / (L * (A[k + 1] - alpha[k + 1] ** 2))\n",
    "    * Sum(alpha[k + 1] * alpha[i] * A[k] * e[i] * e[k], (i, 0, k - 1))\n",
    "    + (2 * alpha[k + 1] * alpha[k] + A[k]) ** 2\n",
    "    / (4 * L * (A[k + 1] - alpha[k + 1] ** 2))\n",
    "    * e[k] ** 2\n",
    ")\n",
    "\n",
    "res = RHS_1 - RHS_0\n",
    "res.doit().cancel()"
   ]
  },
  {
   "cell_type": "code",
   "execution_count": 438,
   "metadata": {},
   "outputs": [
    {
     "data": {
      "image/png": "[encoded data removed]",
      "text/latex": [
       "$\\displaystyle 0$"
      ],
      "text/plain": [
       "0"
      ]
     },
     "execution_count": 438,
     "metadata": {},
     "output_type": "execute_result"
    }
   ],
   "source": [
    "# check the left terms in e equations\n",
    "\n",
    "k = symbols(\"k\")\n",
    "\n",
    "\n",
    "# check e[k]**2 terms\n",
    "\n",
    "\n",
    "RHS_ek_0 = Sum(\n",
    "    (2 * alpha[k + 1] * alpha[k] + A[k]) ** 2\n",
    "    / (4 * L * (A[k + 1] - alpha[k + 1] ** 2))\n",
    "    * e[k] ** 2,\n",
    "    (k, 0, K - 1),\n",
    ")\n",
    "\n",
    "for num_k in range(K):\n",
    "    RHS_ek_0 += Sum(\n",
    "        alpha[num_k + 1] ** 2\n",
    "        * alpha[i] ** 2\n",
    "        * e[i] ** 2\n",
    "        / (L * (A[num_k + 1] - alpha[num_k + 1] ** 2)),\n",
    "        (i, 0, num_k - 1),\n",
    "    )\n",
    "\n",
    "RHS_ek_0.doit()\n",
    "\n",
    "RHS_ek_1 = Sum(\n",
    "    (2 * alpha[k + 1] * alpha[k] + A[k]) ** 2\n",
    "    / (4 * L * (A[k + 1] - alpha[k + 1] ** 2))\n",
    "    * e[k] ** 2,\n",
    "    (k, 0, K - 1),\n",
    ")\n",
    "\n",
    "for num_k in range(K):\n",
    "    RHS_ek_1 += Sum(\n",
    "        alpha[num_k] ** 2\n",
    "        * alpha[j + 1] ** 2\n",
    "        * e[num_k] ** 2\n",
    "        / (L * (A[j + 1] - alpha[j + 1] ** 2)),\n",
    "        (j, num_k + 1, K - 1),\n",
    "    )\n",
    "res_ek = RHS_ek_0 - RHS_ek_1\n",
    "res_ek.doit().cancel()"
   ]
  },
  {
   "cell_type": "code",
   "execution_count": 439,
   "metadata": {},
   "outputs": [
    {
     "data": {
      "image/png": "[encoded data removed]",
      "text/latex": [
       "$\\displaystyle \\frac{\\left({\\alpha}_{0} {e}_{0} + {\\alpha}_{1} {e}_{1}\\right) {A}_{2} {\\alpha}_{3} {e}_{2}}{L \\left({A}_{3} - {\\alpha}_{3}^{2}\\right)} + \\frac{2 \\left({\\alpha}_{0} {e}_{0} + {\\alpha}_{1} {e}_{1}\\right) {\\alpha}_{2} {\\alpha}_{3}^{2} {e}_{2}}{L \\left({A}_{3} - {\\alpha}_{3}^{2}\\right)} + \\frac{2 {\\alpha}_{0} {\\alpha}_{1} {\\alpha}_{3}^{2} {e}_{0} {e}_{1}}{L \\left({A}_{3} - {\\alpha}_{3}^{2}\\right)} + \\frac{{A}_{1} {\\alpha}_{0} {\\alpha}_{2} {e}_{0} {e}_{1}}{L \\left({A}_{2} - {\\alpha}_{2}^{2}\\right)} + \\frac{2 {\\alpha}_{0} {\\alpha}_{1} {\\alpha}_{2}^{2} {e}_{0} {e}_{1}}{L \\left({A}_{2} - {\\alpha}_{2}^{2}\\right)}$"
      ],
      "text/plain": [
       "                                                                              \n",
       "(alpha[0]⋅e[0] + alpha[1]⋅e[1])⋅A[2]⋅alpha[3]⋅e[2]   2⋅(alpha[0]⋅e[0] + alpha[\n",
       "────────────────────────────────────────────────── + ─────────────────────────\n",
       "                 ⎛               2⎞                                       ⎛   \n",
       "               L⋅⎝A[3] - alpha[3] ⎠                                     L⋅⎝A[3\n",
       "\n",
       "                          2                                    2              \n",
       "1]⋅e[1])⋅alpha[2]⋅alpha[3] ⋅e[2]   2⋅alpha[0]⋅alpha[1]⋅alpha[3] ⋅e[0]⋅e[1]   A\n",
       "──────────────────────────────── + ─────────────────────────────────────── + ─\n",
       "            2⎞                                 ⎛               2⎞             \n",
       "] - alpha[3] ⎠                               L⋅⎝A[3] - alpha[3] ⎠             \n",
       "\n",
       "                                                              2          \n",
       "[1]⋅alpha[0]⋅alpha[2]⋅e[0]⋅e[1]   2⋅alpha[0]⋅alpha[1]⋅alpha[2] ⋅e[0]⋅e[1]\n",
       "─────────────────────────────── + ───────────────────────────────────────\n",
       "       ⎛               2⎞                     ⎛               2⎞         \n",
       "     L⋅⎝A[2] - alpha[2] ⎠                   L⋅⎝A[2] - alpha[2] ⎠         "
      ]
     },
     "execution_count": 439,
     "metadata": {},
     "output_type": "execute_result"
    }
   ],
   "source": [
    "## check e[k]*e[i] terms\n",
    "j = symbols(\"j\")\n",
    "RHS_eki_0 = 0\n",
    "\n",
    "for num_k in range(K):\n",
    "    RHS_eki_0 += Sum(\n",
    "        alpha[num_k + 1] * alpha[i] * A[num_k] * e[i] * e[num_k], (i, 0, num_k - 1)\n",
    "    ) / (L * (A[num_k + 1] - alpha[num_k + 1] ** 2))\n",
    "\n",
    "    for num_i in range(num_k + 1):\n",
    "        RHS_eki_0 += Sum(\n",
    "            2\n",
    "            * alpha[num_k + 1] ** 2\n",
    "            * alpha[num_i]\n",
    "            * alpha[j]\n",
    "            * e[num_i]\n",
    "            * e[j]\n",
    "            / (L * (A[num_k + 1] - alpha[num_k + 1] ** 2)),\n",
    "            (j, 0, num_i - 1),\n",
    "        )\n",
    "\n",
    "RHS_eki_0.doit()"
   ]
  },
  {
   "cell_type": "code",
   "execution_count": 440,
   "metadata": {},
   "outputs": [
    {
     "data": {
      "image/png": "[encoded data removed]",
      "text/latex": [
       "$\\displaystyle 0$"
      ],
      "text/plain": [
       "0"
      ]
     },
     "execution_count": 440,
     "metadata": {},
     "output_type": "execute_result"
    }
   ],
   "source": [
    "RHS_eki_1 = 0\n",
    "\n",
    "for num_k in range(K):\n",
    "    for num_i in range(num_k):\n",
    "        RHS_eki_1 += (\n",
    "            alpha[num_k + 1]\n",
    "            * alpha[num_i]\n",
    "            * (A[num_k] + 2 * alpha[num_k + 1] * alpha[num_k])\n",
    "            / (L * (A[num_k + 1] - alpha[num_k + 1] ** 2))\n",
    "            * e[num_k]\n",
    "            * e[num_i]\n",
    "        )\n",
    "    for num_i in range(0, num_k):\n",
    "        for num_j in range(num_k + 1, K):\n",
    "            RHS_eki_1 += (\n",
    "                2\n",
    "                * alpha[num_j + 1] ** 2\n",
    "                * alpha[num_k]\n",
    "                * alpha[num_i]\n",
    "                / (L * (A[num_j + 1] - alpha[num_j + 1] ** 2))\n",
    "                * e[num_k]\n",
    "                * e[num_i]\n",
    "            )\n",
    "\n",
    "\n",
    "res = RHS_eki_0 - RHS_eki_1\n",
    "res.doit().subs(alpha[0], 1).cancel()"
   ]
  },
  {
   "cell_type": "code",
   "execution_count": 441,
   "metadata": {},
   "outputs": [
    {
     "data": {
      "image/png": "[encoded data removed]",
      "text/latex": [
       "$\\displaystyle {P}_{0,0} {e}_{0}^{2} + {P}_{1,0} {e}_{0} {e}_{1} + {P}_{1,1} {e}_{1}^{2} + {P}_{2,0} {e}_{0} {e}_{2} + {P}_{2,1} {e}_{1} {e}_{2} + {P}_{2,2} {e}_{2}^{2}$"
      ],
      "text/plain": [
       "            2                                   2                             \n",
       "P[0, 0]⋅e[0]  + P[1, 0]⋅e[0]⋅e[1] + P[1, 1]⋅e[1]  + P[2, 0]⋅e[0]⋅e[2] + P[2, 1\n",
       "\n",
       "                          2\n",
       "]⋅e[1]⋅e[2] + P[2, 2]⋅e[2] "
      ]
     },
     "execution_count": 441,
     "metadata": {},
     "output_type": "execute_result"
    }
   ],
   "source": [
    "## For P_k,i notation\n",
    "\n",
    "P = IndexedBase(\"P\")\n",
    "\n",
    "eq0 = Sum(P[k, k] * e[k] ** 2, (k, 0, K - 1))\n",
    "for num_k in range(K):\n",
    "    eq0 += Sum(P[num_k, i] * e[num_k] * e[i], (i, 0, num_k - 1))\n",
    "eq0.doit().cancel()"
   ]
  },
  {
   "cell_type": "code",
   "execution_count": 442,
   "metadata": {},
   "outputs": [
    {
     "data": {
      "image/png": "[encoded data removed]",
      "text/latex": [
       "$\\displaystyle 0$"
      ],
      "text/plain": [
       "0"
      ]
     },
     "execution_count": 442,
     "metadata": {},
     "output_type": "execute_result"
    }
   ],
   "source": [
    "eq1 = Sum(P[k, k] * e[k] ** 2, (k, 0, K - 1))\n",
    "for num_k in range(K):\n",
    "    eq1 += -Sum(Rational(1,2)*P[num_k,i] * (e[num_k]-e[i])**2 ,(i,0,num_k-1))\n",
    "    eq1 += Sum(Rational(1,2)*P[num_k,i] *e[num_k]**2  ,(i,0,num_k-1))\n",
    "    eq1 += Sum(Rational(1,2) * P[i,num_k]*e[num_k]**2 ,(i,num_k+1,K-1))\n",
    "eq1.doit().cancel()\n",
    "\n",
    "res = eq0 - eq1\n",
    "res.doit().cancel()"
   ]
  },
  {
   "cell_type": "code",
   "execution_count": 443,
   "metadata": {},
   "outputs": [
    {
     "data": {
      "image/png": "[encoded data removed]",
      "text/latex": [
       "$\\displaystyle \\frac{\\frac{\\left({A}_{1} + 2 {\\alpha}_{1} {\\alpha}_{2}\\right)^{2}}{4 L \\left({A}_{2} - {\\alpha}_{2}^{2}\\right)} + \\frac{\\left({A}_{1} + 2 {\\alpha}_{1} {\\alpha}_{2}\\right) {\\alpha}_{0} {\\alpha}_{2}}{2 L \\left({A}_{2} - {\\alpha}_{2}^{2}\\right)} + \\frac{\\left({A}_{2} + 2 {\\alpha}_{2} {\\alpha}_{3}\\right) {\\alpha}_{1} {\\alpha}_{3}}{2 L \\left({A}_{3} - {\\alpha}_{3}^{2}\\right)} + \\frac{{\\alpha}_{0} {\\alpha}_{1} {\\alpha}_{3}^{2}}{L \\left({A}_{3} - {\\alpha}_{3}^{2}\\right)} + \\frac{{\\alpha}_{1}^{2} {\\alpha}_{3}^{2}}{L \\left({A}_{3} - {\\alpha}_{3}^{2}\\right)}}{{A}_{3}}$"
      ],
      "text/plain": [
       "                            2                                                 \n",
       "(A[1] + 2⋅alpha[1]⋅alpha[2])    (A[1] + 2⋅alpha[1]⋅alpha[2])⋅alpha[0]⋅alpha[2]\n",
       "───────────────────────────── + ──────────────────────────────────────────────\n",
       "        ⎛               2⎞                      ⎛               2⎞            \n",
       "    4⋅L⋅⎝A[2] - alpha[2] ⎠                  2⋅L⋅⎝A[2] - alpha[2] ⎠            \n",
       "──────────────────────────────────────────────────────────────────────────────\n",
       "                                                                              \n",
       "\n",
       "                                                                              \n",
       "   (A[2] + 2⋅alpha[2]⋅alpha[3])⋅alpha[1]⋅alpha[3]   alpha[0]⋅alpha[1]⋅alpha[3]\n",
       " + ────────────────────────────────────────────── + ──────────────────────────\n",
       "                   ⎛               2⎞                     ⎛               2⎞  \n",
       "               2⋅L⋅⎝A[3] - alpha[3] ⎠                   L⋅⎝A[3] - alpha[3] ⎠  \n",
       "──────────────────────────────────────────────────────────────────────────────\n",
       "          A[3]                                                                \n",
       "\n",
       "2           2         2 \n",
       "    alpha[1] ⋅alpha[3]  \n",
       "─ + ────────────────────\n",
       "      ⎛               2⎞\n",
       "    L⋅⎝A[3] - alpha[3] ⎠\n",
       "────────────────────────\n",
       "                        "
      ]
     },
     "execution_count": 443,
     "metadata": {},
     "output_type": "execute_result"
    }
   ],
   "source": [
    "# Compare to u expression\n",
    "def P_func(k,i):\n",
    "    if i==k:\n",
    "        P = (2 * alpha[k+1]*alpha[k]+A[k])**2 / (4*L*(A[k+1]-alpha[k+1]**2)) \n",
    "        for j in range(k+1,K):\n",
    "            P += alpha[j+1]**2 * alpha[k] **2 / (L*(A[j+1]-alpha[j+1]**2))\n",
    "    else:\n",
    "        P = alpha[k+1]*alpha[i]*(A[k]+2*alpha[k+1]*alpha[k])/(L*(A[k+1]-alpha[k+1]**2))\n",
    "        for j in range(k+1,K):\n",
    "            P+= 2*alpha[j+1]**2*alpha[k]*alpha[i]/(L*(A[j+1]-alpha[j+1]**2))\n",
    "\n",
    "\n",
    "    return P\n",
    "def u_func_P(k):\n",
    "    u = P_func(k,k)\n",
    "    for i in range(k):\n",
    "        u+= Rational(1,2)*P_func(k,i)\n",
    "    for i in range(k+1,K):\n",
    "        u+= Rational(1,2)*P_func(i,k)\n",
    "    return u/A[K]\n",
    "\n",
    "u_func_P(1)"
   ]
  },
  {
   "cell_type": "code",
   "execution_count": 444,
   "metadata": {},
   "outputs": [
    {
     "data": {
      "image/png": "[encoded data removed]",
      "text/latex": [
       "$\\displaystyle \\frac{\\left({A}_{1} + 2 {\\alpha}_{1} {\\alpha}_{2}\\right) \\left(2 {\\alpha}_{2} + 1\\right) {A}_{1}}{4 L \\left({A}_{2} - {\\alpha}_{2}^{2}\\right) {A}_{3}} + \\frac{\\left(2 {\\alpha}_{3} + 1\\right) {A}_{2} {\\alpha}_{1} {\\alpha}_{3}}{2 L \\left({A}_{3} - {\\alpha}_{3}^{2}\\right) {A}_{3}}$"
      ],
      "text/plain": [
       "(A[1] + 2⋅alpha[1]⋅alpha[2])⋅(2⋅alpha[2] + 1)⋅A[1]   (2⋅alpha[3] + 1)⋅A[2]⋅alp\n",
       "────────────────────────────────────────────────── + ─────────────────────────\n",
       "               ⎛               2⎞                              ⎛              \n",
       "           4⋅L⋅⎝A[2] - alpha[2] ⎠⋅A[3]                     2⋅L⋅⎝A[3] - alpha[3\n",
       "\n",
       "ha[1]⋅alpha[3]\n",
       "──────────────\n",
       " 2⎞           \n",
       "] ⎠⋅A[3]      "
      ]
     },
     "execution_count": 444,
     "metadata": {},
     "output_type": "execute_result"
    }
   ],
   "source": [
    "def u_expr(i):\n",
    "    \n",
    "    u = (\n",
    "            A[i]\n",
    "            * (1 + 2 * alpha[i + 1])\n",
    "            * (A[i] + 2 * alpha[i] * alpha[i + 1])\n",
    "            / (4 * L * A[K] * (A[i + 1] - alpha[i + 1] ** 2))\n",
    "        )\n",
    "    for k in range(i + 1, K):\n",
    "        u = u + A[k] * (1 + 2 * alpha[k + 1]) * alpha[i] * alpha[k + 1] / (\n",
    "                2 * L * A[K] * (A[k + 1] - alpha[k + 1] ** 2)\n",
    "            )\n",
    "    return u\n",
    "u_expr(1)"
   ]
  },
  {
   "cell_type": "code",
   "execution_count": 447,
   "metadata": {},
   "outputs": [
    {
     "data": {
      "image/png": "[encoded data removed]",
      "text/latex": [
       "$\\displaystyle 0$"
      ],
      "text/plain": [
       "0"
      ]
     },
     "execution_count": 447,
     "metadata": {},
     "output_type": "execute_result"
    }
   ],
   "source": [
    "res = u_func_P(0) - u_expr(0)\n",
    "res.subs(A_to_alpha).cancel()"
   ]
  },
  {
   "cell_type": "code",
   "execution_count": null,
   "metadata": {},
   "outputs": [],
   "source": []
  }
 ],
 "metadata": {
  "kernelspec": {
   "display_name": "env_opt",
   "language": "python",
   "name": "python3"
  },
  "language_info": {
   "codemirror_mode": {
    "name": "ipython",
    "version": 3
   },
   "file_extension": ".py",
   "mimetype": "text/x-python",
   "name": "python",
   "nbconvert_exporter": "python",
   "pygments_lexer": "ipython3",
   "version": "3.9.17"
  }
 },
 "nbformat": 4,
 "nbformat_minor": 2
}
