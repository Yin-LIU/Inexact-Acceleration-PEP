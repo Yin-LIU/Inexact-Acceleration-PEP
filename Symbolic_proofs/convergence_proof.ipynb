{
 "cells": [
  {
   "cell_type": "markdown",
   "metadata": {},
   "source": [
    "Due to the limitation of sympy, we can not simplify Summation notation when K is a symbol. So we define K as a fixed integer"
   ]
  },
  {
   "cell_type": "code",
   "execution_count": 1,
   "metadata": {},
   "outputs": [
    {
     "data": {
      "text/latex": [
       "$\\displaystyle \\left\\{ {x}_{0} : x_{0}, \\  {x}_{1} : x_{0} - \\frac{\\left(2 {\\alpha}_{1} + 1\\right) \\left({e}_{0} + {g}_{0}\\right)}{L {A}_{1}}, \\  {x}_{2} : x_{0} - \\frac{\\left(\\frac{2 {\\alpha}_{1} + 1}{{A}_{2}} + \\frac{2 {\\alpha}_{2}}{{A}_{2}}\\right) \\left({e}_{0} + {g}_{0}\\right) + \\frac{\\left({A}_{1} + 2 {\\alpha}_{1} {\\alpha}_{2}\\right) \\left({e}_{1} + {g}_{1}\\right)}{{A}_{2}}}{L}, \\  {x}_{3} : x_{0} - \\frac{\\left(\\frac{{A}_{1} + 2 {\\alpha}_{1} {\\alpha}_{2}}{{A}_{3}} + \\frac{2 {\\alpha}_{1} {\\alpha}_{3}}{{A}_{3}}\\right) \\left({e}_{1} + {g}_{1}\\right) + \\left(\\frac{\\left(\\frac{2 {\\alpha}_{1} + 1}{{A}_{2}} + \\frac{2 {\\alpha}_{2}}{{A}_{2}}\\right) {A}_{2}}{{A}_{3}} + \\frac{2 {\\alpha}_{3}}{{A}_{3}}\\right) \\left({e}_{0} + {g}_{0}\\right) + \\frac{\\left({A}_{2} + 2 {\\alpha}_{2} {\\alpha}_{3}\\right) \\left({e}_{2} + {g}_{2}\\right)}{{A}_{3}}}{L}\\right\\}$"
      ],
      "text/plain": [
       "⎧                                                                              ↪\n",
       "⎪                                                                              ↪\n",
       "⎪                                                                ⎛2⋅alpha[1] + ↪\n",
       "⎨                                                                ⎜──────────── ↪\n",
       "⎪                     (2⋅alpha[1] + 1)⋅(e[0] + g[0])             ⎝     A[2]    ↪\n",
       "⎪x[0]: x₀, x[1]: x₀ - ──────────────────────────────, x[2]: x₀ - ───────────── ↪\n",
       "⎩                                 L⋅A[1]                                       ↪\n",
       "\n",
       "↪                                                                              ↪\n",
       "↪                                                                              ↪\n",
       "↪  1   2⋅alpha[2]⎞                 (A[1] + 2⋅alpha[1]⋅alpha[2])⋅(e[1] + g[1])  ↪\n",
       "↪ ── + ──────────⎟⋅(e[0] + g[0]) + ──────────────────────────────────────────  ↪\n",
       "↪         A[2]   ⎠                                    A[2]                     ↪\n",
       "↪ ───────────────────────────────────────────────────────────────────────────, ↪\n",
       "↪                               L                                              ↪\n",
       "\n",
       "↪                                                                              ↪\n",
       "↪                                                                              ↪\n",
       "↪             ⎛A[1] + 2⋅alpha[1]⋅alpha[2]   2⋅alpha[1]⋅alpha[3]⎞               ↪\n",
       "↪             ⎜────────────────────────── + ───────────────────⎟⋅(e[1] + g[1]) ↪\n",
       "↪             ⎝           A[3]                     A[3]        ⎠               ↪\n",
       "↪  x[3]: x₀ - ──────────────────────────────────────────────────────────────── ↪\n",
       "↪                                                                              ↪\n",
       "\n",
       "↪    ⎛⎛2⋅alpha[1] + 1   2⋅alpha[2]⎞                  ⎞                         ↪\n",
       "↪    ⎜⎜────────────── + ──────────⎟⋅A[2]             ⎟                         ↪\n",
       "↪    ⎜⎝     A[2]           A[2]   ⎠        2⋅alpha[3]⎟                 (A[2] + ↪\n",
       "↪  + ⎜────────────────────────────────── + ──────────⎟⋅(e[0] + g[0]) + ─────── ↪\n",
       "↪    ⎝               A[3]                     A[3]   ⎠                         ↪\n",
       "↪ ──────────────────────────────────────────────────────────────────────────── ↪\n",
       "↪                        L                                                     ↪\n",
       "\n",
       "↪                                    ⎫\n",
       "↪                                    ⎪\n",
       "↪  2⋅alpha[2]⋅alpha[3])⋅(e[2] + g[2])⎪\n",
       "↪ ───────────────────────────────────⎬\n",
       "↪             A[3]                   ⎪\n",
       "↪ ───────────────────────────────────⎪\n",
       "↪                                    ⎭"
      ]
     },
     "execution_count": 1,
     "metadata": {},
     "output_type": "execute_result"
    }
   ],
   "source": [
    "from sympy import *\n",
    "import numpy as np\n",
    "\n",
    "init_printing()\n",
    "\n",
    "K = 3\n",
    "i, j, k = symbols(\"i j k\", integer=True)\n",
    "L = symbols(\"L\")\n",
    "# K = symbols('K', integer=True, positive=True)\n",
    "f = IndexedBase(\"f\")\n",
    "g = IndexedBase(\"g\")\n",
    "e = IndexedBase(\"e\")\n",
    "x = IndexedBase(\"x\")\n",
    "x0 = symbols(\"x0\")\n",
    "fs = symbols(\"f_*\")\n",
    "xs = symbols(\"x_*\")\n",
    "tau = symbols(\"tau\")\n",
    "b = IndexedBase(\"b\")\n",
    "R = symbols(\"R\")\n",
    "u = IndexedBase(\"u\")\n",
    "\n",
    "A = IndexedBase(\"A\")\n",
    "alpha = IndexedBase(\"alpha\")\n",
    "\n",
    "A_to_alpha = {A[-1]: 0, A[0]: 1, alpha[0]: 1, A[1]: 1 + alpha[1]}\n",
    "for i in range(2, K + 1):\n",
    "    A_to_alpha[A[i]] = A_to_alpha[A[i - 1]] + alpha[i]\n",
    "\n",
    "\n",
    "# a_symbol = IndexedBase('alpha')\n",
    "def calculate_theta(k, i):\n",
    "    if i == k - 1:\n",
    "        result = (2 * alpha[i] * alpha[k] + A[k - 1]) / A[k]\n",
    "    elif i <= k - 2:\n",
    "        result = 2 * alpha[k] * alpha[i] / A[k] + A[k - 1] / A[k] * calculate_theta(\n",
    "            k - 1, i\n",
    "        )\n",
    "    else:\n",
    "        result = 0\n",
    "    return result.subs({A[0]: 1, A[-1]: 0, alpha[0]: 1})\n",
    "\n",
    "\n",
    "theta = [[calculate_theta(k, i) for i in range(k)] for k in range(0, K + 1)]\n",
    "\n",
    "\n",
    "def calculate_x(k):\n",
    "    if k == 0:\n",
    "        return x0\n",
    "    else:\n",
    "        return x0 - 1 / L * sum([theta[k][i] * (g[i] + e[i]) for i in range(k)])\n",
    "\n",
    "\n",
    "x_expr = {x[k]: calculate_x(k) for k in range(K + 1)}\n",
    "x_expr"
   ]
  },
  {
   "cell_type": "code",
   "execution_count": 2,
   "metadata": {},
   "outputs": [
    {
     "data": {
      "text/latex": [
       "$\\displaystyle \\tau \\left(- R^{2} + \\left(- x_{*} + {x}_{0}\\right)^{2}\\right) + \\sum_{k=0}^{2} \\left(- {b}_{k}^{2} + {e}_{k}^{2}\\right) {u}_{k} + \\sum_{k=0}^{3} \\frac{\\left(- {A}_{k - 1} + {A}_{k}\\right) \\left(- f_{*} + \\left(x_{*} - {x}_{k}\\right) {g}_{k} + {f}_{k} + \\frac{{g}_{k}^{2}}{2 L}\\right)}{{A}_{3}} + \\sum_{k=0}^{2} \\frac{\\left(\\left(- {x}_{k + 1} + {x}_{k}\\right) {g}_{k + 1} + {f}_{k + 1} - {f}_{k} + \\frac{\\left(- {g}_{k + 1} + {g}_{k}\\right)^{2}}{2 L}\\right) {A}_{k}}{{A}_{3}}$"
      ],
      "text/plain": [
       "                                                             3                 ↪\n",
       "                                                           _____               ↪\n",
       "                              2                            ╲                   ↪\n",
       "                             ___                            ╲                  ↪\n",
       "                             ╲                               ╲                 ↪\n",
       "  ⎛   2                2⎞     ╲   ⎛      2       2⎞           ╲  (-A[k - 1] +  ↪\n",
       "τ⋅⎝- R  + (-x_* + x[0]) ⎠ +   ╱   ⎝- b[k]  + e[k] ⎠⋅u[k] +    ╱                ↪\n",
       "                             ╱                               ╱   ───────────── ↪\n",
       "                             ‾‾‾                            ╱                  ↪\n",
       "                            k = 0                          ╱                   ↪\n",
       "                                                           ‾‾‾‾‾               ↪\n",
       "                                                           k = 0               ↪\n",
       "\n",
       "↪                                                     2                        ↪\n",
       "↪                                                   _____                      ↪\n",
       "↪                                                   ╲                          ↪\n",
       "↪       ⎛                                      2⎞    ╲    ⎛                    ↪\n",
       "↪       ⎜                                  g[k] ⎟     ╲   ⎜                    ↪\n",
       "↪ A[k])⋅⎜-f_* + (x_* - x[k])⋅g[k] + f[k] + ─────⎟      ╲  ⎜(-x[k + 1] + x[k])⋅ ↪\n",
       "↪       ⎝                                   2⋅L ⎠ +    ╱  ⎝                    ↪\n",
       "↪ ───────────────────────────────────────────────     ╱   ──────────────────── ↪\n",
       "↪                A[3]                                ╱                         ↪\n",
       "↪                                                   ╱                          ↪\n",
       "↪                                                   ‾‾‾‾‾                      ↪\n",
       "↪                                                   k = 0                      ↪\n",
       "\n",
       "↪                                                       \n",
       "↪                                                       \n",
       "↪                                                       \n",
       "↪                                                2⎞     \n",
       "↪                              (-g[k + 1] + g[k]) ⎟     \n",
       "↪ g[k + 1] + f[k + 1] - f[k] + ───────────────────⎟⋅A[k]\n",
       "↪                                      2⋅L        ⎠     \n",
       "↪ ──────────────────────────────────────────────────────\n",
       "↪                A[3]                                   \n",
       "↪                                                       \n",
       "↪                                                       \n",
       "↪                                                       "
      ]
     },
     "execution_count": 2,
     "metadata": {},
     "output_type": "execute_result"
    }
   ],
   "source": [
    "# initial inequality\n",
    "\n",
    "\n",
    "def eq_vi(k):\n",
    "    eq = (\n",
    "        f[k + 1]\n",
    "        - f[k]\n",
    "        + g[k + 1] * (x[k] - x[k + 1])\n",
    "        + 1 / (2 * L) * (g[k] - g[k + 1]) ** 2\n",
    "    )\n",
    "    return eq.subs(x_expr)\n",
    "\n",
    "\n",
    "def eq_vs(k):\n",
    "    eq = f[k] - fs + g[k] * (xs - x[k]) + 1 / (2 * L) * g[k] ** 2\n",
    "    return eq.subs(x_expr)\n",
    "\n",
    "\n",
    "ineq_init = Sum(A[k] / A[K] * eq_vi(k), (k, 0, K - 1)) + Sum(\n",
    "    (A[k] - A[k - 1]) / A[K] * eq_vs(k), (k, 0, K) ) + tau * ( (x[0]- xs)**2 - R**2) + Sum(u[k] * ( e[k]**2 - b[k]**2), (k, 0, K - 1))\n",
    "\n",
    "\n",
    "# ineq_init = ineq_init.doit().subs({A[0]: 1, A[-1]: 0}).subs(x_expr).cancel()\n",
    "ineq_init"
   ]
  },
  {
   "cell_type": "code",
   "execution_count": 3,
   "metadata": {},
   "outputs": [
    {
     "data": {
      "text/latex": [
       "$\\displaystyle 0$"
      ],
      "text/plain": [
       "0"
      ]
     },
     "execution_count": 3,
     "metadata": {},
     "output_type": "execute_result"
    }
   ],
   "source": [
    "LHS_init = f[K] - fs - 1 / (2*L) * g[K]**2 \n",
    "RHS_init = tau * (R**2 - (x[0]- xs)**2) + Sum(u[k] * (b[k]**2 - e[k]**2), (k, 0, K - 1)) - Sum(A[k] / A[K] * g[k+1]*(x[k]-x[k+1]), (k,0,K-1)) - Sum((A[k] - A[k - 1]) / A[K] * g[k] * (xs - x[k]), (k, 0, K)) - 1/(2*L) * Sum(A[k] / A[K] * (g[k] - g[k + 1])**2, (k, 0, K - 1)) - 1/(2*L) * Sum((A[k] - A[k - 1]) / A[K] * g[k]**2, (k, 0, K)) - 1 / (2*L) * g[K]**2\n",
    "res = LHS_init - RHS_init - ineq_init\n",
    "res.doit().subs(A[-1],0).cancel()"
   ]
  },
  {
   "cell_type": "code",
   "execution_count": 4,
   "metadata": {},
   "outputs": [
    {
     "data": {
      "text/latex": [
       "$\\displaystyle 0$"
      ],
      "text/plain": [
       "0"
      ]
     },
     "execution_count": 4,
     "metadata": {},
     "output_type": "execute_result"
    }
   ],
   "source": [
    "# replace x_k with iGOGM\n",
    "\n",
    "# double sum part\n",
    "double_sum = 0\n",
    "for num_k in range(K):\n",
    "    for num_i in range(num_k+1):\n",
    "        double_sum +=  alpha[num_k+1]*alpha[num_i]/A[K]*g[num_k+1]*(g[num_i]+e[num_i])\n",
    "\n",
    "\n",
    "RHS_iGOGM = tau * (R**2 - (x[0]- xs)**2) + Sum(u[k] * (b[k]**2 - e[k]**2), (k, 0, K - 1)) + Sum(alpha[k]/A[K]*g[k] *(x0-xs),(k,0,K)) - 1/L *Sum(A[k]/A[K]*g[k]**2,(k,0,K)) + 1/L *Sum(A[k]/A[K]*g[k]*g[k+1], (k,0,K-1)) - 2/L *double_sum - 1/L * Sum(A[k]/A[K]*g[k+1]*(g[k]+e[k]),(k,0,K-1))\n",
    "\n",
    "res = RHS_init - RHS_iGOGM\n",
    "res.doit().subs(A[-1],0).subs(x_expr).subs(A_to_alpha).cancel()"
   ]
  },
  {
   "cell_type": "code",
   "execution_count": 5,
   "metadata": {},
   "outputs": [
    {
     "data": {
      "text/latex": [
       "$\\displaystyle 0$"
      ],
      "text/plain": [
       "0"
      ]
     },
     "execution_count": 5,
     "metadata": {},
     "output_type": "execute_result"
    }
   ],
   "source": [
    "# first Shur complement\n",
    "double_sum1 = 0\n",
    "for num_k in range(K+1):\n",
    "    for num_i in range(num_k):\n",
    "        double_sum1 +=  alpha[num_k]*alpha[num_i] / (A[K]**2) *g[num_k]*g[num_i]\n",
    "\n",
    "\n",
    "\n",
    "double_sum2 = 0\n",
    "\n",
    "for num_k in range(K):\n",
    "    for num_i in range(num_k+1):\n",
    "        double_sum2 += alpha[num_k+1]*alpha[num_i]/(A[K])*g[num_k+1]*(g[num_i]+e[num_i])\n",
    "\n",
    "\n",
    "\n",
    "\n",
    "\n",
    "RHS_shur_tau1= tau * (R**2 - (x[0]- xs)**2) + Sum(u[k] * (b[k]**2 - e[k]**2), (k, 0, K - 1)) - 1/tau *(tau*(x0-xs) - 1/2 * Sum(alpha[k]/A[K]*g[k],(k,0,K)))**2 + tau*(x0-xs)**2 + Sum((alpha[k]**2/(4*tau*A[K]**2) - A[k]/(L*A[K]))*g[k]**2,(k,0,K)) + 1/ (2*tau) * double_sum1 + 1/L * Sum(A[k]/A[K]*g[k]*g[k+1],(k,0,K-1)) - 2/L*double_sum2 - 1/L *Sum(A[k]/A[K]*g[k+1]*(g[k]+e[k]),(k,0,K-1))\n",
    "\n",
    "\n",
    "\n",
    "res=RHS_shur_tau1 - RHS_iGOGM\n",
    "res.doit().cancel()\n"
   ]
  },
  {
   "cell_type": "code",
   "execution_count": 6,
   "metadata": {},
   "outputs": [
    {
     "data": {
      "text/latex": [
       "$\\displaystyle 0$"
      ],
      "text/plain": [
       "0"
      ]
     },
     "execution_count": 6,
     "metadata": {},
     "output_type": "execute_result"
    }
   ],
   "source": [
    "# replace tau = L/4A_K\n",
    "double_sum = 0\n",
    "for num_k in range(K):\n",
    "    for num_i in range(num_k+1):\n",
    "        double_sum += alpha[num_k+1]*alpha[num_i]/(A[K])*g[num_k+1]*(e[num_i])\n",
    "\n",
    "RHS_shur_tau2 = L*R**2/(4*A[K]) + Sum(u[k] * (b[k]**2 - e[k]**2), (k, 0, K - 1)) - 4*A[K]/L * (L/(4*A[K])*(x0-xs) - 1/2 * Sum(alpha[k]/A[K]*g[k],(k,0,K)))**2 - Sum((A[k]-alpha[k]**2)/(L*A[K])* g[k]**2,(k,1,K) ) - 2/L*double_sum - 1/L *Sum(A[k]/A[K]*g[k+1]*e[k],(k,0,K-1))\n",
    "\n",
    "res = RHS_shur_tau2 - RHS_shur_tau1.subs(tau, L/(4*A[K]) )\n",
    "res.doit().subs(x_expr).subs(A_to_alpha).cancel()\n"
   ]
  },
  {
   "cell_type": "code",
   "execution_count": 7,
   "metadata": {},
   "outputs": [
    {
     "data": {
      "text/latex": [
       "$\\displaystyle 0$"
      ],
      "text/plain": [
       "0"
      ]
     },
     "execution_count": 7,
     "metadata": {},
     "output_type": "execute_result"
    }
   ],
   "source": [
    "# Verify the second Shur complement\n",
    "double_sum = 0\n",
    "for num_k in range(K):\n",
    "    for num_i in range(num_k+1):\n",
    "        double_sum += alpha[num_k+1]*alpha[num_i]/(A[K])*g[num_k+1]*e[num_i]\n",
    "\n",
    "LHS_shur_D = L*R**2/(4*A[K]) + Sum(u[k] * (b[k]**2 - e[k]**2), (k, 0, K - 1))  - Sum((A[k]-alpha[k]**2)/(L*A[K])* g[k]**2,(k,1,K) ) - 2/L*double_sum - 1/L *Sum(A[k]/A[K]*g[k+1]*e[k],(k,0,K-1))\n",
    "\n",
    "double_sum1 = 0\n",
    "for num_k in range(K):\n",
    "    inner_sum = 0\n",
    "    for num_i in range(num_k+1):\n",
    "        inner_sum += alpha[num_k+1]*alpha[num_i]*e[num_i] \n",
    "    \n",
    "    double_sum1 += 1/( L*A[K]*(A[num_k+1]-alpha[num_k+1]**2) ) * ( (A[num_k+1]-alpha[num_k+1]**2) * g[num_k+1] + inner_sum + 1/2 *A[num_k]*e[num_k] )**2 \n",
    "\n",
    "double_sum2 = 0\n",
    "for num_k in range(K):\n",
    "    inner_sum = 0\n",
    "    for num_i in range(num_k):\n",
    "        inner_sum += alpha[num_k+1]**2 *alpha[num_i]**2 * e[num_i]**2 \n",
    "    \n",
    "    double_sum2 += 1/(L*A[K]*(A[num_k+1]-alpha[num_k+1]**2) ) * inner_sum\n",
    "\n",
    "triple_sum1 = 0\n",
    "for num_k in range(K):\n",
    "    inner_sum = 0\n",
    "    for num_i in range(num_k+1):\n",
    "        for num_j in range(num_i):\n",
    "            inner_sum += 2* alpha[num_k+1]**2 * alpha[num_i] * alpha[num_j] * e[num_i] * e[num_j]\n",
    "    triple_sum1 += 1/(L*A[K]*(A[num_k+1]-alpha[num_k+1]**2) ) * inner_sum\n",
    "\n",
    "double_sum3 =0 \n",
    "for num_k in range(K):\n",
    "    inner_sum = 0\n",
    "    for num_i in range(num_k):\n",
    "        inner_sum += alpha[num_k+1] * alpha[num_i] * A[num_k]*e[num_i]*e[num_k]\n",
    "    double_sum3 += 1/(L*A[K]*(A[num_k+1]-alpha[num_k+1]**2) ) * inner_sum\n",
    "\n",
    "\n",
    "RHS_shur_D = L*R**2/(4*A[K]) + Sum(u[k] * (b[k]**2 - e[k]**2), (k, 0, K - 1)) - double_sum1 + double_sum2 + triple_sum1 + double_sum3 + Sum((2*alpha[k+1]*alpha[k] + A[k])**2 / (4*L*A[K]*(A[k+1]-alpha[k+1]**2)) * e[k]**2, (k,0, K-1) )\n",
    "\n",
    "res = LHS_shur_D - RHS_shur_D\n",
    "res.doit().subs(x_expr).subs(A_to_alpha).cancel()"
   ]
  },
  {
   "cell_type": "code",
   "execution_count": 8,
   "metadata": {},
   "outputs": [
    {
     "data": {
      "text/latex": [
       "$\\displaystyle 0$"
      ],
      "text/plain": [
       "0"
      ]
     },
     "execution_count": 8,
     "metadata": {},
     "output_type": "execute_result"
    }
   ],
   "source": [
    "# change incides\n",
    "RHS_shur_D1 =  double_sum2 + triple_sum1 + double_sum3 + Sum((2*alpha[k+1]*alpha[k] + A[k])**2 / (4*L*A[K]*(A[k+1]-alpha[k+1]**2)) * e[k]**2, (k,0, K-1) )\n",
    "\n",
    "\n",
    "double_sum1 = 0\n",
    "for num_k in range(K):\n",
    "    for num_j in range(num_k+1,K):\n",
    "        double_sum1 += (alpha[num_k]**2 * alpha[num_j+1]**2) / (L*A[K]*(A[num_j+1]-alpha[num_j+1]**2)) * e[num_k]**2\n",
    "\n",
    "double_sum2 = 0\n",
    "for num_k in range(K):\n",
    "    for num_i in range(num_k):\n",
    "        double_sum2 += alpha[num_k+1]*alpha[num_i] * (A[num_k]+2*alpha[num_k+1] * alpha[num_k])/(L* A[K]* (A[num_k+1]-alpha[num_k+1]**2))*e[num_k]*e[num_i]\n",
    "\n",
    "triple_sum = 0\n",
    "for num_k in range(K):\n",
    "    for num_i in range(num_k):\n",
    "        for num_j in range(num_k+1,K):\n",
    "            triple_sum += 2 * alpha[num_j+1]**2 * alpha[num_k] * alpha[num_i] / (L*A[K]*(A[num_j+1]-alpha[num_j+1]**2)) * e[num_k] * e[num_i]\n",
    "\n",
    "\n",
    "RHS_shur_D2 = Sum( (2*alpha[k+1]*alpha[k]+ A[k])**2 / (4*L*A[K]*(A[k+1]-alpha[k+1]**2)) * e[k]**2, (k,0, K-1) ) + double_sum1 +double_sum2 + triple_sum \n",
    "\n",
    "res = RHS_shur_D1 - RHS_shur_D2\n",
    "res.doit().subs(x_expr).subs(A_to_alpha).cancel()\n"
   ]
  },
  {
   "cell_type": "code",
   "execution_count": 9,
   "metadata": {},
   "outputs": [
    {
     "data": {
      "text/latex": [
       "$\\displaystyle \\left\\{ {P}_{0,0} : \\sum_{j=1}^{2} \\frac{{\\alpha}_{0}^{2} {\\alpha}_{j + 1}^{2}}{L \\left({A}_{j + 1} - {\\alpha}_{j + 1}^{2}\\right) {A}_{3}} + \\frac{\\left({A}_{0} + 2 {\\alpha}_{0} {\\alpha}_{1}\\right)^{2}}{4 L \\left({A}_{1} - {\\alpha}_{1}^{2}\\right) {A}_{3}}, \\  {P}_{1,0} : \\sum_{j=2}^{2} \\frac{2 {\\alpha}_{0} {\\alpha}_{1} {\\alpha}_{j + 1}^{2}}{L \\left({A}_{j + 1} - {\\alpha}_{j + 1}^{2}\\right) {A}_{3}} + \\frac{\\left({A}_{1} + 2 {\\alpha}_{1} {\\alpha}_{2}\\right) {\\alpha}_{0} {\\alpha}_{2}}{L \\left({A}_{2} - {\\alpha}_{2}^{2}\\right) {A}_{3}}, \\  {P}_{1,1} : \\sum_{j=2}^{2} \\frac{{\\alpha}_{1}^{2} {\\alpha}_{j + 1}^{2}}{L \\left({A}_{j + 1} - {\\alpha}_{j + 1}^{2}\\right) {A}_{3}} + \\frac{\\left({A}_{1} + 2 {\\alpha}_{1} {\\alpha}_{2}\\right)^{2}}{4 L \\left({A}_{2} - {\\alpha}_{2}^{2}\\right) {A}_{3}}, \\  {P}_{2,0} : \\sum_{j=3}^{2} \\frac{2 {\\alpha}_{0} {\\alpha}_{2} {\\alpha}_{j + 1}^{2}}{L \\left({A}_{j + 1} - {\\alpha}_{j + 1}^{2}\\right) {A}_{3}} + \\frac{\\left({A}_{2} + 2 {\\alpha}_{2} {\\alpha}_{3}\\right) {\\alpha}_{0} {\\alpha}_{3}}{L \\left({A}_{3} - {\\alpha}_{3}^{2}\\right) {A}_{3}}, \\  {P}_{2,1} : \\sum_{j=3}^{2} \\frac{2 {\\alpha}_{1} {\\alpha}_{2} {\\alpha}_{j + 1}^{2}}{L \\left({A}_{j + 1} - {\\alpha}_{j + 1}^{2}\\right) {A}_{3}} + \\frac{\\left({A}_{2} + 2 {\\alpha}_{2} {\\alpha}_{3}\\right) {\\alpha}_{1} {\\alpha}_{3}}{L \\left({A}_{3} - {\\alpha}_{3}^{2}\\right) {A}_{3}}, \\  {P}_{2,2} : \\sum_{j=3}^{2} \\frac{{\\alpha}_{2}^{2} {\\alpha}_{j + 1}^{2}}{L \\left({A}_{j + 1} - {\\alpha}_{j + 1}^{2}\\right) {A}_{3}} + \\frac{\\left({A}_{2} + 2 {\\alpha}_{2} {\\alpha}_{3}\\right)^{2}}{4 L \\left({A}_{3} - {\\alpha}_{3}^{2}\\right) {A}_{3}}\\right\\}$"
      ],
      "text/plain": [
       "⎧           2                                                                  ↪\n",
       "⎪         _____                                                                ↪\n",
       "⎪         ╲                                                                    ↪\n",
       "⎪          ╲                                                                   ↪\n",
       "⎪           ╲                2             2                                   ↪\n",
       "⎪            ╲       alpha[0] ⋅alpha[j + 1]         (A[0] + 2⋅alpha[0]⋅alpha[1 ↪\n",
       "⎨P[0, 0]:    ╱  ───────────────────────────────── + ────────────────────────── ↪\n",
       "⎪           ╱     ⎛                       2⎞             ⎛               2⎞    ↪\n",
       "⎪          ╱    L⋅⎝A[j + 1] - alpha[j + 1] ⎠⋅A[3]    4⋅L⋅⎝A[1] - alpha[1] ⎠⋅A[ ↪\n",
       "⎪         ╱                                                                    ↪\n",
       "⎪         ‾‾‾‾‾                                                                ↪\n",
       "⎪         j = 1                                                                ↪\n",
       "⎩                                                                              ↪\n",
       "\n",
       "↪                 2                                                            ↪\n",
       "↪               _____                                                          ↪\n",
       "↪               ╲                                                              ↪\n",
       "↪                ╲                                                             ↪\n",
       "↪   2             ╲                                   2                        ↪\n",
       "↪ ])               ╲  2⋅alpha[0]⋅alpha[1]⋅alpha[j + 1]    (A[1] + 2⋅alpha[1]⋅a ↪\n",
       "↪ ───, P[1, 0]:    ╱  ───────────────────────────────── + ──────────────────── ↪\n",
       "↪                 ╱     ⎛                       2⎞                    ⎛        ↪\n",
       "↪ 3]             ╱    L⋅⎝A[j + 1] - alpha[j + 1] ⎠⋅A[3]             L⋅⎝A[2] -  ↪\n",
       "↪               ╱                                                              ↪\n",
       "↪               ‾‾‾‾‾                                                          ↪\n",
       "↪               j = 2                                                          ↪\n",
       "↪                                                                              ↪\n",
       "\n",
       "↪                                        2                                     ↪\n",
       "↪                                      _____                                   ↪\n",
       "↪                                      ╲                                       ↪\n",
       "↪                                       ╲                                      ↪\n",
       "↪                                        ╲                2             2      ↪\n",
       "↪ lpha[2])⋅alpha[0]⋅alpha[2]              ╲       alpha[1] ⋅alpha[j + 1]       ↪\n",
       "↪ ──────────────────────────, P[1, 1]:    ╱  ───────────────────────────────── ↪\n",
       "↪         2⎞                             ╱     ⎛                       2⎞      ↪\n",
       "↪ alpha[2] ⎠⋅A[3]                       ╱    L⋅⎝A[j + 1] - alpha[j + 1] ⎠⋅A[3] ↪\n",
       "↪                                      ╱                                       ↪\n",
       "↪                                      ‾‾‾‾‾                                   ↪\n",
       "↪                                      j = 2                                   ↪\n",
       "↪                                                                              ↪\n",
       "\n",
       "↪                                              2                               ↪\n",
       "↪                                            _____                             ↪\n",
       "↪                                            ╲                                 ↪\n",
       "↪                                             ╲                                ↪\n",
       "↪                                2             ╲                               ↪\n",
       "↪    (A[1] + 2⋅alpha[1]⋅alpha[2])               ╲  2⋅alpha[0]⋅alpha[2]⋅alpha[j ↪\n",
       "↪  + ─────────────────────────────, P[2, 0]:    ╱  ─────────────────────────── ↪\n",
       "↪         ⎛               2⎞                   ╱     ⎛                       2 ↪\n",
       "↪     4⋅L⋅⎝A[2] - alpha[2] ⎠⋅A[3]             ╱    L⋅⎝A[j + 1] - alpha[j + 1]  ↪\n",
       "↪                                            ╱                                 ↪\n",
       "↪                                            ‾‾‾‾‾                             ↪\n",
       "↪                                            j = 3                             ↪\n",
       "↪                                                                              ↪\n",
       "\n",
       "↪                                                                     2        ↪\n",
       "↪                                                                   _____      ↪\n",
       "↪                                                                   ╲          ↪\n",
       "↪                                                                    ╲         ↪\n",
       "↪      2                                                              ╲        ↪\n",
       "↪  + 1]    (A[2] + 2⋅alpha[2]⋅alpha[3])⋅alpha[0]⋅alpha[3]              ╲  2⋅al ↪\n",
       "↪ ────── + ──────────────────────────────────────────────, P[2, 1]:    ╱  ──── ↪\n",
       "↪ ⎞                    ⎛               2⎞                             ╱     ⎛  ↪\n",
       "↪ ⎠⋅A[3]             L⋅⎝A[3] - alpha[3] ⎠⋅A[3]                       ╱    L⋅⎝A ↪\n",
       "↪                                                                   ╱          ↪\n",
       "↪                                                                   ‾‾‾‾‾      ↪\n",
       "↪                                                                   j = 3      ↪\n",
       "↪                                                                              ↪\n",
       "\n",
       "↪                                                                              ↪\n",
       "↪                                                                              ↪\n",
       "↪                                                                              ↪\n",
       "↪                                                                              ↪\n",
       "↪                             2                                                ↪\n",
       "↪ pha[1]⋅alpha[2]⋅alpha[j + 1]    (A[2] + 2⋅alpha[2]⋅alpha[3])⋅alpha[1]⋅alpha[ ↪\n",
       "↪ ───────────────────────────── + ──────────────────────────────────────────── ↪\n",
       "↪                       2⎞                    ⎛               2⎞               ↪\n",
       "↪ [j + 1] - alpha[j + 1] ⎠⋅A[3]             L⋅⎝A[3] - alpha[3] ⎠⋅A[3]          ↪\n",
       "↪                                                                              ↪\n",
       "↪                                                                              ↪\n",
       "↪                                                                              ↪\n",
       "↪                                                                              ↪\n",
       "\n",
       "↪                2                                                             ↪\n",
       "↪              _____                                                           ↪\n",
       "↪              ╲                                                               ↪\n",
       "↪               ╲                                                              ↪\n",
       "↪                ╲                2             2                              ↪\n",
       "↪ 3]              ╲       alpha[2] ⋅alpha[j + 1]         (A[2] + 2⋅alpha[2]⋅al ↪\n",
       "↪ ──, P[2, 2]:    ╱  ───────────────────────────────── + ───────────────────── ↪\n",
       "↪                ╱     ⎛                       2⎞             ⎛                ↪\n",
       "↪               ╱    L⋅⎝A[j + 1] - alpha[j + 1] ⎠⋅A[3]    4⋅L⋅⎝A[3] - alpha[3] ↪\n",
       "↪              ╱                                                               ↪\n",
       "↪              ‾‾‾‾‾                                                           ↪\n",
       "↪              j = 3                                                           ↪\n",
       "↪                                                                              ↪\n",
       "\n",
       "↪         ⎫\n",
       "↪         ⎪\n",
       "↪         ⎪\n",
       "↪         ⎪\n",
       "↪        2⎪\n",
       "↪ pha[3]) ⎪\n",
       "↪ ────────⎬\n",
       "↪ 2⎞      ⎪\n",
       "↪  ⎠⋅A[3] ⎪\n",
       "↪         ⎪\n",
       "↪         ⎪\n",
       "↪         ⎪\n",
       "↪         ⎭"
      ]
     },
     "execution_count": 9,
     "metadata": {},
     "output_type": "execute_result"
    }
   ],
   "source": [
    "# Use P notation\n",
    "P = IndexedBase(\"P\")\n",
    "\n",
    "def calculate_P(k,i):\n",
    "    if i == k :\n",
    "        return (2*alpha[k+1]*alpha[k] +A[k])**2 / (4*L*A[K]*(A[k+1]-alpha[k+1]**2)) + Sum( alpha[k]**2 * alpha[j+1]**2 / (L*A[K] * (A[j+1]-alpha[j+1]**2)), (j,k+1,K-1) )\n",
    "    else:\n",
    "        return alpha[k+1]*alpha[i] * (A[k]+2*alpha[k+1]*alpha[k])/(L*A[K]*(A[k+1]-alpha[k+1]**2)) + Sum(2*alpha[j+1]**2 * alpha[k] * alpha[i] / (L*A[K]*(A[j+1]-alpha[j+1]**2)), (j,k+1,K-1))\n",
    "\n",
    "\n",
    "P_expr = {P[k,i]: calculate_P(k,i) for k in range(K) for i in range(k+1)}\n",
    "P_expr"
   ]
  },
  {
   "cell_type": "code",
   "execution_count": 10,
   "metadata": {},
   "outputs": [
    {
     "data": {
      "text/latex": [
       "$\\displaystyle 0$"
      ],
      "text/plain": [
       "0"
      ]
     },
     "execution_count": 10,
     "metadata": {},
     "output_type": "execute_result"
    }
   ],
   "source": [
    "# Check the P notation is correct\n",
    "double_sum = 0\n",
    "for num_k in range(K):\n",
    "    for num_i in range(num_k):\n",
    "        double_sum += P[num_k,num_i] * e[num_k] * e[num_i]\n",
    "EQ_P = Sum(P[k,k] * e[k]**2, (k, 0, K - 1)) + double_sum\n",
    "\n",
    "res=EQ_P.doit().subs(P_expr).doit() - RHS_shur_D2.doit()\n",
    "res.cancel()"
   ]
  },
  {
   "cell_type": "code",
   "execution_count": null,
   "metadata": {},
   "outputs": [
    {
     "data": {
      "text/latex": [
       "$\\displaystyle 0$"
      ],
      "text/plain": [
       "0"
      ]
     },
     "execution_count": 11,
     "metadata": {},
     "output_type": "execute_result"
    }
   ],
   "source": [
    "# Check the equations for P are equal (omit the middle steps)\n",
    "\n",
    "double_sum1 = 0\n",
    "for num_k in range(K):\n",
    "    for num_i in range(num_k):\n",
    "        double_sum1 += 1/2* P[num_k,num_i] * (e[num_k]- e[num_i])**2\n",
    "    \n",
    "\n",
    "double_sum2 = 0\n",
    "for num_k in range(K):\n",
    "    inner_sum = P[num_k,num_k]\n",
    "    for num_i in range(num_k):\n",
    "        inner_sum +=   1/2 *P[num_k,num_i]\n",
    "    for num_i in range(num_k+1,K):\n",
    "        inner_sum += 1/2 * P[num_i,num_k]\n",
    "    double_sum2 += inner_sum * e[num_k]**2\n",
    "\n",
    "EQ_P_final = -double_sum1 + double_sum2 \n",
    "res=EQ_P_final - EQ_P\n",
    "res.doit().cancel()"
   ]
  },
  {
   "cell_type": "code",
   "execution_count": 13,
   "metadata": {},
   "outputs": [
    {
     "name": "stdout",
     "output_type": "stream",
     "text": [
      "k=0 res=0\n",
      "k=1 res=0\n",
      "k=2 res=0\n"
     ]
    }
   ],
   "source": [
    "# Check the u value\n",
    "def calculate_u(k):\n",
    "\n",
    "    result = A[k]*(1+2*alpha[k+1])*(A[k]+2*alpha[k]*alpha[k+1])/(4*L*A[K]*(A[k+1]-alpha[k+1]**2))\n",
    "    for num_i in range(k+1,K):\n",
    "        result += A[num_i]*(1+2*alpha[num_i+1])*alpha[k]*alpha[num_i+1]/(2*L*A[K]*(A[num_i+1]-alpha[num_i+1]**2))\n",
    "    return result\n",
    "\n",
    "for k in range(K):\n",
    "    u_P_express = P[k,k]\n",
    "    for num_i in range(0,k):\n",
    "        u_P_express += 1/2 * P[k,num_i] \n",
    "    for num_i in range(k+1,K):\n",
    "        u_P_express += 1/2 *P[num_i,k]\n",
    "    \n",
    "    res=u_P_express.subs(P_expr) - calculate_u(k)\n",
    "    print('k='+str(k)+' res='+str(res.doit().subs(A_to_alpha).cancel()))\n"
   ]
  }
 ],
 "metadata": {
  "kernelspec": {
   "display_name": "multipurpose",
   "language": "python",
   "name": "python3"
  },
  "language_info": {
   "codemirror_mode": {
    "name": "ipython",
    "version": 3
   },
   "file_extension": ".py",
   "mimetype": "text/x-python",
   "name": "python",
   "nbconvert_exporter": "python",
   "pygments_lexer": "ipython3",
   "version": "3.13.5"
  }
 },
 "nbformat": 4,
 "nbformat_minor": 2
}
